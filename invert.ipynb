{
 "cells": [
  {
   "cell_type": "code",
   "execution_count": 95,
   "id": "80022fbe",
   "metadata": {},
   "outputs": [],
   "source": [
    "import os\n",
    "from collections import OrderedDict"
   ]
  },
  {
   "cell_type": "markdown",
   "id": "229de2a3",
   "metadata": {},
   "source": [
    "# Reading Stop words and Creating a file for Stop Words"
   ]
  },
  {
   "cell_type": "code",
   "execution_count": 98,
   "id": "569544f4",
   "metadata": {},
   "outputs": [
    {
     "name": "stdout",
     "output_type": "stream",
     "text": [
      "910\n"
     ]
    }
   ],
   "source": [
    "stopWords_path = os.path.join('stopWords.txt')\n",
    "stop_words = []\n",
    "\n",
    "\n",
    "# open the file in read mode\n",
    "with open(stopWords_path, 'r', encoding='utf-8') as file:\n",
    "    # read all the words in the file and split them by whitespace\n",
    "    stop_words = file.read()\n",
    "    stop_words = stop_words.replace('\\ufeff', '')\n",
    "    stop_words = stop_words.split()\n",
    "    \n",
    "\n",
    "with open('Stop_Words_List.txt', 'w', encoding='utf-8') as file:\n",
    "    for word in stop_words:\n",
    "        file.write(word+'\\n')\n",
    "                \n",
    "print(len(stop_words))\n",
    "# print(stop_words)"
   ]
  },
  {
   "cell_type": "markdown",
   "id": "70a5c61c",
   "metadata": {},
   "source": [
    "# Reading Stop words from the new file"
   ]
  },
  {
   "cell_type": "code",
   "execution_count": 99,
   "id": "060b6be3",
   "metadata": {},
   "outputs": [
    {
     "name": "stdout",
     "output_type": "stream",
     "text": [
      "[]\n",
      "910\n"
     ]
    }
   ],
   "source": [
    "stopWords_path = os.path.join('Stop_Words_List.txt')\n",
    "\n",
    "stop_words =[]\n",
    "print(stop_words)\n",
    "with open(stopWords_path, 'r', encoding='utf-8') as file:\n",
    "    # read all the words in the file and split them by whitespace\n",
    "    words = file.read().split('\\n')\n",
    "    for word in words:\n",
    "        stop_words.append(word)\n",
    "\n",
    "stop_words.pop()\n",
    "print(len(stop_words))"
   ]
  },
  {
   "cell_type": "code",
   "execution_count": null,
   "id": "39d92f65",
   "metadata": {},
   "outputs": [],
   "source": []
  },
  {
   "cell_type": "code",
   "execution_count": 100,
   "id": "e548f528",
   "metadata": {},
   "outputs": [],
   "source": [
    "def indexes(word,data):\n",
    "    i=0\n",
    "    list1=[]\n",
    "    for w in data:\n",
    "        if w == word:\n",
    "            list1.append(i)\n",
    "        i+=1\n",
    "    return list1"
   ]
  },
  {
   "cell_type": "markdown",
   "id": "4acdcdba",
   "metadata": {},
   "source": [
    "# Reading Urdu Corpus, indexing and posting"
   ]
  },
  {
   "cell_type": "code",
   "execution_count": 101,
   "id": "824f6690",
   "metadata": {},
   "outputs": [
    {
     "name": "stdout",
     "output_type": "stream",
     "text": [
      "6679\n"
     ]
    }
   ],
   "source": [
    "corpus_path = 'Urdu Corpus'\n",
    "files=os.path.join(corpus_path)\n",
    "\n",
    "# getting list of all files\n",
    "corpus_files = os.listdir(corpus_path)\n",
    "\n",
    "corpus_words = {}\n",
    "\n",
    "# reading file by file\n",
    "for file_name in corpus_files:\n",
    "    # open the file in read mode\n",
    "    with open(os.path.join(corpus_path, file_name), 'r', encoding='utf-8') as file:\n",
    "        # read all the words in the file and split them by whitespace\n",
    "        words = file.read()\n",
    "        words = words.replace('\\ufeff', '')\n",
    "        words = words.split()\n",
    "#         print(words)\n",
    "        for word in words:\n",
    "            if word not in corpus_words:\n",
    "                corpus_words[word]=[1]\n",
    "                list1 = indexes(word,words)\n",
    "                corpus_words[word].append([{file_name:list1}])\n",
    "            else:\n",
    "                if all(file_name not in keys for keys in corpus_words[word][1]):\n",
    "#                 if file_name not in corpus_words[word]:\n",
    "                    list1 = indexes(word,words)\n",
    "                    corpus_words[word][1].append({file_name:list1})\n",
    "                    corpus_words[word][0]+=1\n",
    "        \n",
    "                \n",
    "print(len(corpus_words))\n",
    "# for key in corpus_words"
   ]
  },
  {
   "cell_type": "code",
   "execution_count": 102,
   "id": "b89a39a7",
   "metadata": {},
   "outputs": [
    {
     "data": {
      "text/plain": [
       "[12,\n",
       " [{'Current Affairs1.txt': [0, 161]},\n",
       "  {'Current Affairs3.txt': [0, 161]},\n",
       "  {'Current Affairs4.txt': [0, 80]},\n",
       "  {'Current Affairs5.txt': [472, 477, 737]},\n",
       "  {'Current Affairs7.txt': [472, 477, 737]},\n",
       "  {'Current Affairs8.txt': [103]},\n",
       "  {'Sports21.txt': [244]},\n",
       "  {'Sports25.txt': [198]},\n",
       "  {'Sports31.txt': [773]},\n",
       "  {'Sports4.txt': [773]},\n",
       "  {'Sports6.txt': [198]},\n",
       "  {'Sports7.txt': [244]}]]"
      ]
     },
     "execution_count": 102,
     "metadata": {},
     "output_type": "execute_result"
    }
   ],
   "source": [
    "corpus_words['کراچی']"
   ]
  },
  {
   "cell_type": "markdown",
   "id": "5afd9395",
   "metadata": {},
   "source": [
    "# Deleting Stop words"
   ]
  },
  {
   "cell_type": "code",
   "execution_count": 103,
   "id": "31a01468",
   "metadata": {},
   "outputs": [],
   "source": [
    "def removeStopWords():\n",
    "    for word in stop_words:\n",
    "        if word in corpus_words:\n",
    "            del corpus_words[word]"
   ]
  },
  {
   "cell_type": "code",
   "execution_count": 104,
   "id": "d4d222b0",
   "metadata": {},
   "outputs": [
    {
     "name": "stdout",
     "output_type": "stream",
     "text": [
      "6658\n"
     ]
    }
   ],
   "source": [
    "removeStopWords()\n",
    "print(len(corpus_words))"
   ]
  },
  {
   "cell_type": "markdown",
   "id": "9c413550",
   "metadata": {},
   "source": [
    "# Sorting Corpus"
   ]
  },
  {
   "cell_type": "code",
   "execution_count": 107,
   "id": "c63433c1",
   "metadata": {},
   "outputs": [],
   "source": [
    "sorted_corpus = OrderedDict(sorted(corpus_words.items()))"
   ]
  },
  {
   "cell_type": "code",
   "execution_count": 108,
   "id": "89438b1b",
   "metadata": {},
   "outputs": [
    {
     "name": "stdout",
     "output_type": "stream",
     "text": [
      "6658\n"
     ]
    }
   ],
   "source": [
    "print(len(sorted_corpus))"
   ]
  },
  {
   "cell_type": "markdown",
   "id": "4c5d2946",
   "metadata": {},
   "source": [
    "# saving data to file"
   ]
  },
  {
   "cell_type": "code",
   "execution_count": 117,
   "id": "d6f1e01d",
   "metadata": {},
   "outputs": [
    {
     "name": "stdout",
     "output_type": "stream",
     "text": [
      "Data type before reconstruction :  <class 'bytes'>\n",
      "Data type after reconstruction :  <class 'collections.OrderedDict'>\n",
      "6658\n"
     ]
    }
   ],
   "source": [
    "import pickle\n",
    "  \n",
    "# opening file in write mode (binary)\n",
    "file = open(\"corpus_index_posting.txt\", \"wb\")\n",
    "  \n",
    "# serializing dictionary \n",
    "pickle.dump(sorted_corpus, file)\n",
    "  \n",
    "# closing the file\n",
    "file.close()"
   ]
  },
  {
   "cell_type": "markdown",
   "id": "420127cc",
   "metadata": {},
   "source": []
  },
  {
   "cell_type": "code",
   "execution_count": null,
   "id": "1bcca7d6",
   "metadata": {},
   "outputs": [],
   "source": []
  },
  {
   "cell_type": "code",
   "execution_count": null,
   "id": "6700c6b0",
   "metadata": {},
   "outputs": [],
   "source": []
  }
 ],
 "metadata": {
  "kernelspec": {
   "display_name": "Python 3 (ipykernel)",
   "language": "python",
   "name": "python3"
  },
  "language_info": {
   "codemirror_mode": {
    "name": "ipython",
    "version": 3
   },
   "file_extension": ".py",
   "mimetype": "text/x-python",
   "name": "python",
   "nbconvert_exporter": "python",
   "pygments_lexer": "ipython3",
   "version": "3.9.13"
  }
 },
 "nbformat": 4,
 "nbformat_minor": 5
}
